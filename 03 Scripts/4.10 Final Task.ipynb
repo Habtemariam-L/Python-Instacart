{
 "cells": [
  {
   "cell_type": "markdown",
   "id": "d10d87a4",
   "metadata": {},
   "source": [
    "# 1. Importing all important libraries and dataset"
   ]
  },
  {
   "cell_type": "code",
   "execution_count": 1,
   "id": "7bcf051a",
   "metadata": {},
   "outputs": [],
   "source": [
    "# Import all the necessary libraries \n",
    "\n",
    "import pandas as pd\n",
    "import numpy as np\n",
    "import os\n",
    "import matplotlib.pyplot as plt\n",
    "import seaborn as sns\n",
    "import scipy"
   ]
  },
  {
   "cell_type": "code",
   "execution_count": 2,
   "id": "da1624d5",
   "metadata": {},
   "outputs": [],
   "source": [
    "# Set a path string\n",
    "\n",
    "path=r\"C:\\Users\\Lemlem TH\\Desktop\\CareerFoundry\\Course\\Data Immersion\\Achievement 4\\Instacart Basket Analysis\""
   ]
  },
  {
   "cell_type": "code",
   "execution_count": 3,
   "id": "7da60bb5",
   "metadata": {},
   "outputs": [],
   "source": [
    "# Import the dataset all_data_combined.pkl as all_data_combined\n",
    "\n",
    "all_data_combined=pd.read_pickle(os.path.join(path, '02 Data', 'Prepared Data', 'all_data_combined.pkl'))"
   ]
  },
  {
   "cell_type": "code",
   "execution_count": 37,
   "id": "89601a47",
   "metadata": {},
   "outputs": [
    {
     "data": {
      "text/plain": [
       "(30629741, 24)"
      ]
     },
     "execution_count": 37,
     "metadata": {},
     "output_type": "execute_result"
    }
   ],
   "source": [
    "all_data_combined.shape"
   ]
  },
  {
   "cell_type": "markdown",
   "id": "4c19be23",
   "metadata": {},
   "source": [
    "# 2. Considering any security implication"
   ]
  },
  {
   "cell_type": "code",
   "execution_count": 4,
   "id": "d0bc84b4",
   "metadata": {
    "scrolled": true
   },
   "outputs": [
    {
     "data": {
      "text/html": [
       "<div>\n",
       "<style scoped>\n",
       "    .dataframe tbody tr th:only-of-type {\n",
       "        vertical-align: middle;\n",
       "    }\n",
       "\n",
       "    .dataframe tbody tr th {\n",
       "        vertical-align: top;\n",
       "    }\n",
       "\n",
       "    .dataframe thead th {\n",
       "        text-align: right;\n",
       "    }\n",
       "</style>\n",
       "<table border=\"1\" class=\"dataframe\">\n",
       "  <thead>\n",
       "    <tr style=\"text-align: right;\">\n",
       "      <th></th>\n",
       "      <th>user_id</th>\n",
       "      <th>orders_day_of_week</th>\n",
       "      <th>hour_at_time_of_order</th>\n",
       "      <th>prices</th>\n",
       "      <th>price_range_loc</th>\n",
       "      <th>busiest_day</th>\n",
       "      <th>busiest_days</th>\n",
       "      <th>busiest_periods_of_day</th>\n",
       "      <th>loyalty_flag</th>\n",
       "      <th>avg_spending</th>\n",
       "      <th>spending_flag</th>\n",
       "      <th>order_flag</th>\n",
       "      <th>state</th>\n",
       "      <th>age</th>\n",
       "      <th>date_joined</th>\n",
       "      <th>n_dependants</th>\n",
       "      <th>fam_status</th>\n",
       "      <th>income</th>\n",
       "      <th>_merge</th>\n",
       "    </tr>\n",
       "  </thead>\n",
       "  <tbody>\n",
       "    <tr>\n",
       "      <th>0</th>\n",
       "      <td>1</td>\n",
       "      <td>2</td>\n",
       "      <td>8</td>\n",
       "      <td>9.0</td>\n",
       "      <td>Mid-range product</td>\n",
       "      <td>Regularly busy</td>\n",
       "      <td>Regularly days</td>\n",
       "      <td>Most orders</td>\n",
       "      <td>New customer</td>\n",
       "      <td>6.367188</td>\n",
       "      <td>Low spender</td>\n",
       "      <td>Regular customer</td>\n",
       "      <td>Alabama</td>\n",
       "      <td>31</td>\n",
       "      <td>2/17/2019</td>\n",
       "      <td>3</td>\n",
       "      <td>married</td>\n",
       "      <td>40423</td>\n",
       "      <td>both</td>\n",
       "    </tr>\n",
       "    <tr>\n",
       "      <th>1</th>\n",
       "      <td>1</td>\n",
       "      <td>3</td>\n",
       "      <td>7</td>\n",
       "      <td>9.0</td>\n",
       "      <td>Mid-range product</td>\n",
       "      <td>Regularly busy</td>\n",
       "      <td>Slowest days</td>\n",
       "      <td>Average orders</td>\n",
       "      <td>New customer</td>\n",
       "      <td>6.367188</td>\n",
       "      <td>Low spender</td>\n",
       "      <td>Regular customer</td>\n",
       "      <td>Alabama</td>\n",
       "      <td>31</td>\n",
       "      <td>2/17/2019</td>\n",
       "      <td>3</td>\n",
       "      <td>married</td>\n",
       "      <td>40423</td>\n",
       "      <td>both</td>\n",
       "    </tr>\n",
       "    <tr>\n",
       "      <th>2</th>\n",
       "      <td>1</td>\n",
       "      <td>3</td>\n",
       "      <td>12</td>\n",
       "      <td>9.0</td>\n",
       "      <td>Mid-range product</td>\n",
       "      <td>Regularly busy</td>\n",
       "      <td>Slowest days</td>\n",
       "      <td>Most orders</td>\n",
       "      <td>New customer</td>\n",
       "      <td>6.367188</td>\n",
       "      <td>Low spender</td>\n",
       "      <td>Regular customer</td>\n",
       "      <td>Alabama</td>\n",
       "      <td>31</td>\n",
       "      <td>2/17/2019</td>\n",
       "      <td>3</td>\n",
       "      <td>married</td>\n",
       "      <td>40423</td>\n",
       "      <td>both</td>\n",
       "    </tr>\n",
       "    <tr>\n",
       "      <th>3</th>\n",
       "      <td>1</td>\n",
       "      <td>4</td>\n",
       "      <td>7</td>\n",
       "      <td>9.0</td>\n",
       "      <td>Mid-range product</td>\n",
       "      <td>Least busy</td>\n",
       "      <td>Slowest days</td>\n",
       "      <td>Average orders</td>\n",
       "      <td>New customer</td>\n",
       "      <td>6.367188</td>\n",
       "      <td>Low spender</td>\n",
       "      <td>Regular customer</td>\n",
       "      <td>Alabama</td>\n",
       "      <td>31</td>\n",
       "      <td>2/17/2019</td>\n",
       "      <td>3</td>\n",
       "      <td>married</td>\n",
       "      <td>40423</td>\n",
       "      <td>both</td>\n",
       "    </tr>\n",
       "    <tr>\n",
       "      <th>4</th>\n",
       "      <td>1</td>\n",
       "      <td>4</td>\n",
       "      <td>15</td>\n",
       "      <td>9.0</td>\n",
       "      <td>Mid-range product</td>\n",
       "      <td>Least busy</td>\n",
       "      <td>Slowest days</td>\n",
       "      <td>Most orders</td>\n",
       "      <td>New customer</td>\n",
       "      <td>6.367188</td>\n",
       "      <td>Low spender</td>\n",
       "      <td>Regular customer</td>\n",
       "      <td>Alabama</td>\n",
       "      <td>31</td>\n",
       "      <td>2/17/2019</td>\n",
       "      <td>3</td>\n",
       "      <td>married</td>\n",
       "      <td>40423</td>\n",
       "      <td>both</td>\n",
       "    </tr>\n",
       "  </tbody>\n",
       "</table>\n",
       "</div>"
      ],
      "text/plain": [
       "  user_id  orders_day_of_week  hour_at_time_of_order  prices  \\\n",
       "0       1                   2                      8     9.0   \n",
       "1       1                   3                      7     9.0   \n",
       "2       1                   3                     12     9.0   \n",
       "3       1                   4                      7     9.0   \n",
       "4       1                   4                     15     9.0   \n",
       "\n",
       "     price_range_loc     busiest_day    busiest_days busiest_periods_of_day  \\\n",
       "0  Mid-range product  Regularly busy  Regularly days            Most orders   \n",
       "1  Mid-range product  Regularly busy    Slowest days         Average orders   \n",
       "2  Mid-range product  Regularly busy    Slowest days            Most orders   \n",
       "3  Mid-range product      Least busy    Slowest days         Average orders   \n",
       "4  Mid-range product      Least busy    Slowest days            Most orders   \n",
       "\n",
       "   loyalty_flag  avg_spending spending_flag        order_flag    state  age  \\\n",
       "0  New customer      6.367188   Low spender  Regular customer  Alabama   31   \n",
       "1  New customer      6.367188   Low spender  Regular customer  Alabama   31   \n",
       "2  New customer      6.367188   Low spender  Regular customer  Alabama   31   \n",
       "3  New customer      6.367188   Low spender  Regular customer  Alabama   31   \n",
       "4  New customer      6.367188   Low spender  Regular customer  Alabama   31   \n",
       "\n",
       "  date_joined  n_dependants fam_status  income _merge  \n",
       "0   2/17/2019             3    married   40423   both  \n",
       "1   2/17/2019             3    married   40423   both  \n",
       "2   2/17/2019             3    married   40423   both  \n",
       "3   2/17/2019             3    married   40423   both  \n",
       "4   2/17/2019             3    married   40423   both  "
      ]
     },
     "execution_count": 4,
     "metadata": {},
     "output_type": "execute_result"
    }
   ],
   "source": [
    "# Checking the content of the columns to identify PII data \n",
    "\n",
    "all_data_combined.head()"
   ]
  },
  {
   "cell_type": "markdown",
   "id": "5cbd89b3",
   "metadata": {},
   "source": [
    "There is  no PII."
   ]
  },
  {
   "cell_type": "markdown",
   "id": "7e8f3426",
   "metadata": {},
   "source": [
    "# 3. Comparing customer behavior in different geographic areas"
   ]
  },
  {
   "cell_type": "markdown",
   "id": "bbb297bd",
   "metadata": {},
   "source": [
    "### Creating a “region” column based on the “state” column"
   ]
  },
  {
   "cell_type": "code",
   "execution_count": 5,
   "id": "0a506e1d",
   "metadata": {},
   "outputs": [],
   "source": [
    "# creating a function called 'region_label'\n",
    "\n",
    "def region_label (row):\n",
    "    if row ['state'] in ('Maine','New Hampshire','Vermont','Massachusetts','Rhode Island', 'Connecticut','New York','Pennsylvania','New Jersey'):\n",
    "       return 'Northeast'\n",
    "    elif row ['state'] in ('Wisconsin','Michigan','Illinois','Indiana','Ohio','North Dakota','South Dakota','Nebraska','Kansas','Minnesota','Iowa','Missouri'):\n",
    "       return 'Midwest'\n",
    "    elif row ['state'] in ('Delaware','Maryland','District of Columbia','Virginia','West Virginia','North Carolina','South Carolina','Georgia','Florida','Kentucky', 'Tennessee', 'Mississippi','Alabama','Oklahoma','Texas','Arkansas','Louisiana'):\n",
    "       return 'South'\n",
    "    elif row ['state'] in ('Idaho','Montana','Wyoming','Nevada','Utah','Colorado','Arizona','New Mexico','Alaska','Washington','Oregon','California','Hawaii'):\n",
    "       return 'West'\n",
    "    else: return 'na'\n"
   ]
  },
  {
   "cell_type": "code",
   "execution_count": 6,
   "id": "c0baae2b",
   "metadata": {},
   "outputs": [],
   "source": [
    "# Apply the function created above. The following will create a new column called region and checks every row (axis=1) \n",
    "\n",
    "all_data_combined['region']=all_data_combined.apply(region_label, axis=1)"
   ]
  },
  {
   "cell_type": "code",
   "execution_count": 7,
   "id": "5cdf0465",
   "metadata": {},
   "outputs": [
    {
     "data": {
      "text/plain": [
       "region\n",
       "South        10198982\n",
       "West          7831810\n",
       "Midwest       7176924\n",
       "Northeast     5422025\n",
       "Name: count, dtype: int64"
      ]
     },
     "execution_count": 7,
     "metadata": {},
     "output_type": "execute_result"
    }
   ],
   "source": [
    "# Print the frequency of the 'region' column\n",
    "\n",
    "all_data_combined['region'].value_counts(dropna=False)"
   ]
  },
  {
   "cell_type": "markdown",
   "id": "0cae9b39",
   "metadata": {},
   "source": [
    "### Determining whether there’s a difference in spending habits between the different U.S. regions"
   ]
  },
  {
   "cell_type": "code",
   "execution_count": 8,
   "id": "a89f4298",
   "metadata": {},
   "outputs": [],
   "source": [
    "# Creating a crosstab\n",
    "\n",
    "crosstab = pd.crosstab(all_data_combined['region'], all_data_combined['spending_flag'], dropna = False)"
   ]
  },
  {
   "cell_type": "code",
   "execution_count": 9,
   "id": "5c596228",
   "metadata": {},
   "outputs": [
    {
     "data": {
      "text/html": [
       "<div>\n",
       "<style scoped>\n",
       "    .dataframe tbody tr th:only-of-type {\n",
       "        vertical-align: middle;\n",
       "    }\n",
       "\n",
       "    .dataframe tbody tr th {\n",
       "        vertical-align: top;\n",
       "    }\n",
       "\n",
       "    .dataframe thead th {\n",
       "        text-align: right;\n",
       "    }\n",
       "</style>\n",
       "<table border=\"1\" class=\"dataframe\">\n",
       "  <thead>\n",
       "    <tr style=\"text-align: right;\">\n",
       "      <th>spending_flag</th>\n",
       "      <th>High spender</th>\n",
       "      <th>Low spender</th>\n",
       "    </tr>\n",
       "    <tr>\n",
       "      <th>region</th>\n",
       "      <th></th>\n",
       "      <th></th>\n",
       "    </tr>\n",
       "  </thead>\n",
       "  <tbody>\n",
       "    <tr>\n",
       "      <th>Midwest</th>\n",
       "      <td>149817</td>\n",
       "      <td>7027107</td>\n",
       "    </tr>\n",
       "    <tr>\n",
       "      <th>Northeast</th>\n",
       "      <td>101420</td>\n",
       "      <td>5320605</td>\n",
       "    </tr>\n",
       "    <tr>\n",
       "      <th>South</th>\n",
       "      <td>196523</td>\n",
       "      <td>10002459</td>\n",
       "    </tr>\n",
       "    <tr>\n",
       "      <th>West</th>\n",
       "      <td>147803</td>\n",
       "      <td>7684007</td>\n",
       "    </tr>\n",
       "  </tbody>\n",
       "</table>\n",
       "</div>"
      ],
      "text/plain": [
       "spending_flag  High spender  Low spender\n",
       "region                                  \n",
       "Midwest              149817      7027107\n",
       "Northeast            101420      5320605\n",
       "South                196523     10002459\n",
       "West                 147803      7684007"
      ]
     },
     "execution_count": 9,
     "metadata": {},
     "output_type": "execute_result"
    }
   ],
   "source": [
    "crosstab"
   ]
  },
  {
   "cell_type": "markdown",
   "id": "3a0771bc",
   "metadata": {},
   "source": [
    "# 4. Excluding low activity customers"
   ]
  },
  {
   "cell_type": "markdown",
   "id": "44315a2a",
   "metadata": {},
   "source": [
    "### Creating exclusion flag"
   ]
  },
  {
   "cell_type": "markdown",
   "id": "59cf904f",
   "metadata": {},
   "source": [
    "I had a very difficult memory issues on my laptop in the previous excercise while merging the different data sets. I was forced to delet some columns. Unfortunetly the max_order column which could have been used here to exclude low activity customers is also deleted from the dataset. Therefore, I am not able to creat the \"low_activity\" column. "
   ]
  },
  {
   "cell_type": "markdown",
   "id": "d3b74bd8",
   "metadata": {},
   "source": [
    "### Excluding low-activity customers"
   ]
  },
  {
   "cell_type": "code",
   "execution_count": 10,
   "id": "c7dff909",
   "metadata": {},
   "outputs": [],
   "source": [
    "# if 4.1 would have been excuted, i could run the following code to extract the 'low_activity' customers\n",
    "# low_activity = all_data_combined[all_data_combined['low_activity']== 'False']"
   ]
  },
  {
   "cell_type": "markdown",
   "id": "3a7512f6",
   "metadata": {},
   "source": [
    "# 5. Customer profiling"
   ]
  },
  {
   "cell_type": "markdown",
   "id": "29c18f1c",
   "metadata": {},
   "source": [
    "### Customer profiling based on age"
   ]
  },
  {
   "cell_type": "code",
   "execution_count": 11,
   "id": "688d1683",
   "metadata": {},
   "outputs": [],
   "source": [
    "# creating age groups\n",
    "\n",
    "all_data_combined.loc[(all_data_combined['age'] >= 65) , 'age_loc'] = 'Senior'\n",
    "all_data_combined.loc[(all_data_combined['age'] > 18) & (all_data_combined['age']<65), 'age_loc'] = 'Adult'\n",
    "all_data_combined.loc[(all_data_combined['age'] <= 18) , 'age_loc'] = 'Young'\n",
    "                                                         "
   ]
  },
  {
   "cell_type": "code",
   "execution_count": 12,
   "id": "7a141d86",
   "metadata": {},
   "outputs": [
    {
     "data": {
      "text/plain": [
       "age_loc\n",
       "Adult     22059307\n",
       "Senior     8097571\n",
       "Young       472863\n",
       "Name: count, dtype: int64"
      ]
     },
     "execution_count": 12,
     "metadata": {},
     "output_type": "execute_result"
    }
   ],
   "source": [
    "# Check the frequency of age groups\n",
    "\n",
    "all_data_combined['age_loc'].value_counts(dropna=False)"
   ]
  },
  {
   "cell_type": "markdown",
   "id": "63468481",
   "metadata": {},
   "source": [
    "### Customer profiling based on income"
   ]
  },
  {
   "cell_type": "code",
   "execution_count": 13,
   "id": "67602f20",
   "metadata": {},
   "outputs": [
    {
     "data": {
      "text/plain": [
       "count    3.062974e+07\n",
       "mean     9.945980e+04\n",
       "std      4.306626e+04\n",
       "min      2.590300e+04\n",
       "25%      6.706600e+04\n",
       "50%      9.661200e+04\n",
       "75%      1.279340e+05\n",
       "max      5.939010e+05\n",
       "Name: income, dtype: float64"
      ]
     },
     "execution_count": 13,
     "metadata": {},
     "output_type": "execute_result"
    }
   ],
   "source": [
    "# First check income distribution \n",
    "\n",
    "all_data_combined.income.describe()"
   ]
  },
  {
   "cell_type": "code",
   "execution_count": 14,
   "id": "c0020660",
   "metadata": {},
   "outputs": [],
   "source": [
    "# Create income groups\n",
    "\n",
    "all_data_combined.loc[(all_data_combined['income'] >= 150000) , 'income_loc'] = 'high_income'\n",
    "all_data_combined.loc[(all_data_combined['income'] > 100000) & (all_data_combined['income']<150000), 'income_loc'] = 'middle_income'\n",
    "all_data_combined.loc[(all_data_combined['income'] <= 100000) , 'income_loc'] = 'low_income'\n",
    "                                                         "
   ]
  },
  {
   "cell_type": "code",
   "execution_count": 15,
   "id": "69d9aaf0",
   "metadata": {},
   "outputs": [
    {
     "data": {
      "text/plain": [
       "income_loc\n",
       "low_income       16620149\n",
       "middle_income    10188645\n",
       "high_income       3820947\n",
       "Name: count, dtype: int64"
      ]
     },
     "execution_count": 15,
     "metadata": {},
     "output_type": "execute_result"
    }
   ],
   "source": [
    "# Check the frequency of income groups\n",
    "\n",
    "all_data_combined['income_loc'].value_counts(dropna=False)"
   ]
  },
  {
   "cell_type": "markdown",
   "id": "c0bae8b5",
   "metadata": {},
   "source": [
    "### Customer profiling based on number of dependants"
   ]
  },
  {
   "cell_type": "code",
   "execution_count": 16,
   "id": "8a703d56",
   "metadata": {},
   "outputs": [
    {
     "data": {
      "text/plain": [
       "count    3.062974e+07\n",
       "mean     1.501712e+00\n",
       "std      1.118467e+00\n",
       "min      0.000000e+00\n",
       "25%      1.000000e+00\n",
       "50%      2.000000e+00\n",
       "75%      3.000000e+00\n",
       "max      3.000000e+00\n",
       "Name: n_dependants, dtype: float64"
      ]
     },
     "execution_count": 16,
     "metadata": {},
     "output_type": "execute_result"
    }
   ],
   "source": [
    "# First check number of dependents distribution \n",
    "\n",
    "all_data_combined.n_dependants.describe()"
   ]
  },
  {
   "cell_type": "code",
   "execution_count": 17,
   "id": "0b6f310d",
   "metadata": {},
   "outputs": [],
   "source": [
    "# Profiling based on number of dependent\n",
    "\n",
    "all_data_combined.loc[(all_data_combined['n_dependants'] > 0) , 'dependant_loc'] = 'young_parent'\n",
    "all_data_combined.loc[(all_data_combined['n_dependants'] == 0) , 'dependant_loc'] = 'single_adult'\n",
    "                                                         "
   ]
  },
  {
   "cell_type": "code",
   "execution_count": 18,
   "id": "14e20f6d",
   "metadata": {},
   "outputs": [
    {
     "data": {
      "text/plain": [
       "dependant_loc\n",
       "young_parent    22980043\n",
       "single_adult     7649698\n",
       "Name: count, dtype: int64"
      ]
     },
     "execution_count": 18,
     "metadata": {},
     "output_type": "execute_result"
    }
   ],
   "source": [
    "# Check the frequency of family size groups\n",
    "\n",
    "all_data_combined['dependant_loc'].value_counts(dropna=False)"
   ]
  },
  {
   "cell_type": "markdown",
   "id": "235746de",
   "metadata": {},
   "source": [
    "# 6. Visualization of the distribution of profiles"
   ]
  },
  {
   "cell_type": "markdown",
   "id": "d31b5252",
   "metadata": {},
   "source": [
    "### Distribution of income groups"
   ]
  },
  {
   "cell_type": "code",
   "execution_count": 19,
   "id": "174f00e7",
   "metadata": {},
   "outputs": [
    {
     "data": {
      "image/png": "[encoded data removed]",
      "text/plain": [
       "<Figure size 640x480 with 1 Axes>"
      ]
     },
     "metadata": {},
     "output_type": "display_data"
    }
   ],
   "source": [
    "# Creat bar chart for income group distribution\n",
    "\n",
    "bar= all_data_combined['income_loc'].value_counts().sort_index().plot.bar()\n",
    "plt.title('Distribution of Income Group')\n",
    "plt.ylabel('Income')\n",
    "plt.xlabel('Income Group')\n",
    "plt.tight_layout()\n",
    "\n"
   ]
  },
  {
   "cell_type": "code",
   "execution_count": 20,
   "id": "cb55005c",
   "metadata": {},
   "outputs": [],
   "source": [
    "# Exporting the 'bar' object created above to the 'visualizations' folder\n",
    "\n",
    "bar.figure.savefig(os.path.join(path, '04 Analysis', 'Visualizations', 'bar_income_loc.png'))"
   ]
  },
  {
   "cell_type": "markdown",
   "id": "2514ffae",
   "metadata": {},
   "source": [
    "### Distributin of age groups"
   ]
  },
  {
   "cell_type": "code",
   "execution_count": 21,
   "id": "9bca477f",
   "metadata": {},
   "outputs": [
    {
     "data": {
      "text/plain": [
       "Text(0.5, 1.0, 'Distribution of Age Group')"
      ]
     },
     "execution_count": 21,
     "metadata": {},
     "output_type": "execute_result"
    },
    {
     "data": {
      "image/png": "[encoded data removed]",
      "text/plain": [
       "<Figure size 640x480 with 1 Axes>"
      ]
     },
     "metadata": {},
     "output_type": "display_data"
    }
   ],
   "source": [
    "pie= all_data_combined['age_loc'].value_counts().sort_index().plot.pie(autopct='%1.0f%%',  colors=['blue', 'red', 'yellow'])\n",
    "plt.title('Distribution of Age Group')"
   ]
  },
  {
   "cell_type": "code",
   "execution_count": 22,
   "id": "aea93ed3",
   "metadata": {},
   "outputs": [],
   "source": [
    "# Exporting the 'pie' object created above to the 'visualizations' folder\n",
    "\n",
    "pie.figure.savefig(os.path.join(path, '04 Analysis', 'Visualizations', 'pie_age_loc.png'))"
   ]
  },
  {
   "cell_type": "markdown",
   "id": "8cc30e34",
   "metadata": {},
   "source": [
    "### Distribution of family size"
   ]
  },
  {
   "cell_type": "code",
   "execution_count": 23,
   "id": "794146d8",
   "metadata": {},
   "outputs": [
    {
     "data": {
      "text/plain": [
       "Text(0.5, 1.0, 'Distribution of Family Group')"
      ]
     },
     "execution_count": 23,
     "metadata": {},
     "output_type": "execute_result"
    },
    {
     "data": {
      "image/png": "[encoded data removed]",
      "text/plain": [
       "<Figure size 640x480 with 1 Axes>"
      ]
     },
     "metadata": {},
     "output_type": "display_data"
    }
   ],
   "source": [
    "pie= all_data_combined['dependant_loc'].value_counts().sort_index().plot.pie(autopct='%1.0f%%')\n",
    "plt.title('Distribution of Family Group')"
   ]
  },
  {
   "cell_type": "code",
   "execution_count": 24,
   "id": "f83f593c",
   "metadata": {},
   "outputs": [],
   "source": [
    "# Exporting the 'pie' object created above to the 'visualizations' folder\n",
    "\n",
    "pie.figure.savefig(os.path.join(path, '04 Analysis', 'Visualizations', 'pie_dependant_loc.png'))"
   ]
  },
  {
   "cell_type": "markdown",
   "id": "698f949b",
   "metadata": {},
   "source": [
    "# 7. Aggregation"
   ]
  },
  {
   "cell_type": "markdown",
   "id": "8ce2e3d6",
   "metadata": {},
   "source": [
    "### Total expenditure per customer"
   ]
  },
  {
   "cell_type": "code",
   "execution_count": 25,
   "id": "1ceaca95",
   "metadata": {},
   "outputs": [],
   "source": [
    "# Calculate total expenditure per customer and assign it to a new column 'total_expenditure'\n",
    "\n",
    "all_data_combined['total_expenditure'] = all_data_combined.groupby('user_id')['avg_spending'].transform(np.sum)"
   ]
  },
  {
   "cell_type": "code",
   "execution_count": 26,
   "id": "af57d545",
   "metadata": {},
   "outputs": [
    {
     "data": {
      "text/plain": [
       "count    3.062974e+07\n",
       "mean     4.663727e+03\n",
       "std      2.498657e+04\n",
       "min      3.000000e+00\n",
       "25%      1.109391e+03\n",
       "50%      2.424824e+03\n",
       "75%      4.769824e+03\n",
       "max      2.103968e+06\n",
       "Name: total_expenditure, dtype: float64"
      ]
     },
     "execution_count": 26,
     "metadata": {},
     "output_type": "execute_result"
    }
   ],
   "source": [
    "# Check the newly created column \n",
    "\n",
    "all_data_combined['total_expenditure'].describe()"
   ]
  },
  {
   "cell_type": "code",
   "execution_count": 27,
   "id": "bf5475ef",
   "metadata": {},
   "outputs": [
    {
     "data": {
      "text/html": [
       "<div>\n",
       "<style scoped>\n",
       "    .dataframe tbody tr th:only-of-type {\n",
       "        vertical-align: middle;\n",
       "    }\n",
       "\n",
       "    .dataframe tbody tr th {\n",
       "        vertical-align: top;\n",
       "    }\n",
       "\n",
       "    .dataframe thead th {\n",
       "        text-align: right;\n",
       "    }\n",
       "</style>\n",
       "<table border=\"1\" class=\"dataframe\">\n",
       "  <thead>\n",
       "    <tr style=\"text-align: right;\">\n",
       "      <th></th>\n",
       "      <th>user_id</th>\n",
       "      <th>orders_day_of_week</th>\n",
       "      <th>hour_at_time_of_order</th>\n",
       "      <th>prices</th>\n",
       "      <th>price_range_loc</th>\n",
       "      <th>busiest_day</th>\n",
       "      <th>busiest_days</th>\n",
       "      <th>busiest_periods_of_day</th>\n",
       "      <th>loyalty_flag</th>\n",
       "      <th>avg_spending</th>\n",
       "      <th>...</th>\n",
       "      <th>date_joined</th>\n",
       "      <th>n_dependants</th>\n",
       "      <th>fam_status</th>\n",
       "      <th>income</th>\n",
       "      <th>_merge</th>\n",
       "      <th>region</th>\n",
       "      <th>age_loc</th>\n",
       "      <th>income_loc</th>\n",
       "      <th>dependant_loc</th>\n",
       "      <th>total_expenditure</th>\n",
       "    </tr>\n",
       "  </thead>\n",
       "  <tbody>\n",
       "    <tr>\n",
       "      <th>0</th>\n",
       "      <td>1</td>\n",
       "      <td>2</td>\n",
       "      <td>8</td>\n",
       "      <td>9.0</td>\n",
       "      <td>Mid-range product</td>\n",
       "      <td>Regularly busy</td>\n",
       "      <td>Regularly days</td>\n",
       "      <td>Most orders</td>\n",
       "      <td>New customer</td>\n",
       "      <td>6.367188</td>\n",
       "      <td>...</td>\n",
       "      <td>2/17/2019</td>\n",
       "      <td>3</td>\n",
       "      <td>married</td>\n",
       "      <td>40423</td>\n",
       "      <td>both</td>\n",
       "      <td>South</td>\n",
       "      <td>Adult</td>\n",
       "      <td>low_income</td>\n",
       "      <td>young_parent</td>\n",
       "      <td>375.664062</td>\n",
       "    </tr>\n",
       "    <tr>\n",
       "      <th>1</th>\n",
       "      <td>1</td>\n",
       "      <td>3</td>\n",
       "      <td>7</td>\n",
       "      <td>9.0</td>\n",
       "      <td>Mid-range product</td>\n",
       "      <td>Regularly busy</td>\n",
       "      <td>Slowest days</td>\n",
       "      <td>Average orders</td>\n",
       "      <td>New customer</td>\n",
       "      <td>6.367188</td>\n",
       "      <td>...</td>\n",
       "      <td>2/17/2019</td>\n",
       "      <td>3</td>\n",
       "      <td>married</td>\n",
       "      <td>40423</td>\n",
       "      <td>both</td>\n",
       "      <td>South</td>\n",
       "      <td>Adult</td>\n",
       "      <td>low_income</td>\n",
       "      <td>young_parent</td>\n",
       "      <td>375.664062</td>\n",
       "    </tr>\n",
       "    <tr>\n",
       "      <th>2</th>\n",
       "      <td>1</td>\n",
       "      <td>3</td>\n",
       "      <td>12</td>\n",
       "      <td>9.0</td>\n",
       "      <td>Mid-range product</td>\n",
       "      <td>Regularly busy</td>\n",
       "      <td>Slowest days</td>\n",
       "      <td>Most orders</td>\n",
       "      <td>New customer</td>\n",
       "      <td>6.367188</td>\n",
       "      <td>...</td>\n",
       "      <td>2/17/2019</td>\n",
       "      <td>3</td>\n",
       "      <td>married</td>\n",
       "      <td>40423</td>\n",
       "      <td>both</td>\n",
       "      <td>South</td>\n",
       "      <td>Adult</td>\n",
       "      <td>low_income</td>\n",
       "      <td>young_parent</td>\n",
       "      <td>375.664062</td>\n",
       "    </tr>\n",
       "    <tr>\n",
       "      <th>3</th>\n",
       "      <td>1</td>\n",
       "      <td>4</td>\n",
       "      <td>7</td>\n",
       "      <td>9.0</td>\n",
       "      <td>Mid-range product</td>\n",
       "      <td>Least busy</td>\n",
       "      <td>Slowest days</td>\n",
       "      <td>Average orders</td>\n",
       "      <td>New customer</td>\n",
       "      <td>6.367188</td>\n",
       "      <td>...</td>\n",
       "      <td>2/17/2019</td>\n",
       "      <td>3</td>\n",
       "      <td>married</td>\n",
       "      <td>40423</td>\n",
       "      <td>both</td>\n",
       "      <td>South</td>\n",
       "      <td>Adult</td>\n",
       "      <td>low_income</td>\n",
       "      <td>young_parent</td>\n",
       "      <td>375.664062</td>\n",
       "    </tr>\n",
       "    <tr>\n",
       "      <th>4</th>\n",
       "      <td>1</td>\n",
       "      <td>4</td>\n",
       "      <td>15</td>\n",
       "      <td>9.0</td>\n",
       "      <td>Mid-range product</td>\n",
       "      <td>Least busy</td>\n",
       "      <td>Slowest days</td>\n",
       "      <td>Most orders</td>\n",
       "      <td>New customer</td>\n",
       "      <td>6.367188</td>\n",
       "      <td>...</td>\n",
       "      <td>2/17/2019</td>\n",
       "      <td>3</td>\n",
       "      <td>married</td>\n",
       "      <td>40423</td>\n",
       "      <td>both</td>\n",
       "      <td>South</td>\n",
       "      <td>Adult</td>\n",
       "      <td>low_income</td>\n",
       "      <td>young_parent</td>\n",
       "      <td>375.664062</td>\n",
       "    </tr>\n",
       "  </tbody>\n",
       "</table>\n",
       "<p>5 rows × 24 columns</p>\n",
       "</div>"
      ],
      "text/plain": [
       "  user_id  orders_day_of_week  hour_at_time_of_order  prices  \\\n",
       "0       1                   2                      8     9.0   \n",
       "1       1                   3                      7     9.0   \n",
       "2       1                   3                     12     9.0   \n",
       "3       1                   4                      7     9.0   \n",
       "4       1                   4                     15     9.0   \n",
       "\n",
       "     price_range_loc     busiest_day    busiest_days busiest_periods_of_day  \\\n",
       "0  Mid-range product  Regularly busy  Regularly days            Most orders   \n",
       "1  Mid-range product  Regularly busy    Slowest days         Average orders   \n",
       "2  Mid-range product  Regularly busy    Slowest days            Most orders   \n",
       "3  Mid-range product      Least busy    Slowest days         Average orders   \n",
       "4  Mid-range product      Least busy    Slowest days            Most orders   \n",
       "\n",
       "   loyalty_flag  avg_spending  ... date_joined n_dependants fam_status  \\\n",
       "0  New customer      6.367188  ...   2/17/2019            3    married   \n",
       "1  New customer      6.367188  ...   2/17/2019            3    married   \n",
       "2  New customer      6.367188  ...   2/17/2019            3    married   \n",
       "3  New customer      6.367188  ...   2/17/2019            3    married   \n",
       "4  New customer      6.367188  ...   2/17/2019            3    married   \n",
       "\n",
       "   income _merge  region age_loc  income_loc dependant_loc total_expenditure  \n",
       "0   40423   both   South   Adult  low_income  young_parent        375.664062  \n",
       "1   40423   both   South   Adult  low_income  young_parent        375.664062  \n",
       "2   40423   both   South   Adult  low_income  young_parent        375.664062  \n",
       "3   40423   both   South   Adult  low_income  young_parent        375.664062  \n",
       "4   40423   both   South   Adult  low_income  young_parent        375.664062  \n",
       "\n",
       "[5 rows x 24 columns]"
      ]
     },
     "execution_count": 27,
     "metadata": {},
     "output_type": "execute_result"
    }
   ],
   "source": [
    "all_data_combined.head()"
   ]
  },
  {
   "cell_type": "markdown",
   "id": "bc06d145",
   "metadata": {},
   "source": [
    "### Expenditure by age group"
   ]
  },
  {
   "cell_type": "code",
   "execution_count": 28,
   "id": "4e4c056f",
   "metadata": {},
   "outputs": [
    {
     "data": {
      "text/html": [
       "<div>\n",
       "<style scoped>\n",
       "    .dataframe tbody tr th:only-of-type {\n",
       "        vertical-align: middle;\n",
       "    }\n",
       "\n",
       "    .dataframe tbody tr th {\n",
       "        vertical-align: top;\n",
       "    }\n",
       "\n",
       "    .dataframe thead tr th {\n",
       "        text-align: left;\n",
       "    }\n",
       "\n",
       "    .dataframe thead tr:last-of-type th {\n",
       "        text-align: right;\n",
       "    }\n",
       "</style>\n",
       "<table border=\"1\" class=\"dataframe\">\n",
       "  <thead>\n",
       "    <tr>\n",
       "      <th></th>\n",
       "      <th colspan=\"3\" halign=\"left\">total_expenditure</th>\n",
       "    </tr>\n",
       "    <tr>\n",
       "      <th></th>\n",
       "      <th>max</th>\n",
       "      <th>mean</th>\n",
       "      <th>min</th>\n",
       "    </tr>\n",
       "    <tr>\n",
       "      <th>age_loc</th>\n",
       "      <th></th>\n",
       "      <th></th>\n",
       "      <th></th>\n",
       "    </tr>\n",
       "  </thead>\n",
       "  <tbody>\n",
       "    <tr>\n",
       "      <th>Adult</th>\n",
       "      <td>2103968.0</td>\n",
       "      <td>4709.640625</td>\n",
       "      <td>3.0</td>\n",
       "    </tr>\n",
       "    <tr>\n",
       "      <th>Senior</th>\n",
       "      <td>1410154.0</td>\n",
       "      <td>4566.786133</td>\n",
       "      <td>3.0</td>\n",
       "    </tr>\n",
       "    <tr>\n",
       "      <th>Young</th>\n",
       "      <td>301785.0</td>\n",
       "      <td>4182.011719</td>\n",
       "      <td>8.0</td>\n",
       "    </tr>\n",
       "  </tbody>\n",
       "</table>\n",
       "</div>"
      ],
      "text/plain": [
       "        total_expenditure                  \n",
       "                      max         mean  min\n",
       "age_loc                                    \n",
       "Adult           2103968.0  4709.640625  3.0\n",
       "Senior          1410154.0  4566.786133  3.0\n",
       "Young            301785.0  4182.011719  8.0"
      ]
     },
     "execution_count": 28,
     "metadata": {},
     "output_type": "execute_result"
    }
   ],
   "source": [
    "all_data_combined.groupby('age_loc').agg({'total_expenditure': ['max', 'mean', 'min']})"
   ]
  },
  {
   "cell_type": "markdown",
   "id": "198b5783",
   "metadata": {},
   "source": [
    "### Expenditure by income group"
   ]
  },
  {
   "cell_type": "code",
   "execution_count": 29,
   "id": "f48560ab",
   "metadata": {},
   "outputs": [
    {
     "data": {
      "text/html": [
       "<div>\n",
       "<style scoped>\n",
       "    .dataframe tbody tr th:only-of-type {\n",
       "        vertical-align: middle;\n",
       "    }\n",
       "\n",
       "    .dataframe tbody tr th {\n",
       "        vertical-align: top;\n",
       "    }\n",
       "\n",
       "    .dataframe thead tr th {\n",
       "        text-align: left;\n",
       "    }\n",
       "\n",
       "    .dataframe thead tr:last-of-type th {\n",
       "        text-align: right;\n",
       "    }\n",
       "</style>\n",
       "<table border=\"1\" class=\"dataframe\">\n",
       "  <thead>\n",
       "    <tr>\n",
       "      <th></th>\n",
       "      <th colspan=\"3\" halign=\"left\">total_expenditure</th>\n",
       "    </tr>\n",
       "    <tr>\n",
       "      <th></th>\n",
       "      <th>max</th>\n",
       "      <th>mean</th>\n",
       "      <th>min</th>\n",
       "    </tr>\n",
       "    <tr>\n",
       "      <th>income_loc</th>\n",
       "      <th></th>\n",
       "      <th></th>\n",
       "      <th></th>\n",
       "    </tr>\n",
       "  </thead>\n",
       "  <tbody>\n",
       "    <tr>\n",
       "      <th>high_income</th>\n",
       "      <td>2103968.0</td>\n",
       "      <td>11737.719727</td>\n",
       "      <td>13.101562</td>\n",
       "    </tr>\n",
       "    <tr>\n",
       "      <th>low_income</th>\n",
       "      <td>1102248.0</td>\n",
       "      <td>3314.818359</td>\n",
       "      <td>3.000000</td>\n",
       "    </tr>\n",
       "    <tr>\n",
       "      <th>middle_income</th>\n",
       "      <td>1410154.0</td>\n",
       "      <td>4211.239258</td>\n",
       "      <td>21.304688</td>\n",
       "    </tr>\n",
       "  </tbody>\n",
       "</table>\n",
       "</div>"
      ],
      "text/plain": [
       "              total_expenditure                         \n",
       "                            max          mean        min\n",
       "income_loc                                              \n",
       "high_income           2103968.0  11737.719727  13.101562\n",
       "low_income            1102248.0   3314.818359   3.000000\n",
       "middle_income         1410154.0   4211.239258  21.304688"
      ]
     },
     "execution_count": 29,
     "metadata": {},
     "output_type": "execute_result"
    }
   ],
   "source": [
    "all_data_combined.groupby('income_loc').agg({'total_expenditure': ['max', 'mean', 'min']})"
   ]
  },
  {
   "cell_type": "markdown",
   "id": "8372e22a",
   "metadata": {},
   "source": [
    "### Expenditure by family group"
   ]
  },
  {
   "cell_type": "code",
   "execution_count": 30,
   "id": "6f9919cb",
   "metadata": {},
   "outputs": [
    {
     "data": {
      "text/html": [
       "<div>\n",
       "<style scoped>\n",
       "    .dataframe tbody tr th:only-of-type {\n",
       "        vertical-align: middle;\n",
       "    }\n",
       "\n",
       "    .dataframe tbody tr th {\n",
       "        vertical-align: top;\n",
       "    }\n",
       "\n",
       "    .dataframe thead tr th {\n",
       "        text-align: left;\n",
       "    }\n",
       "\n",
       "    .dataframe thead tr:last-of-type th {\n",
       "        text-align: right;\n",
       "    }\n",
       "</style>\n",
       "<table border=\"1\" class=\"dataframe\">\n",
       "  <thead>\n",
       "    <tr>\n",
       "      <th></th>\n",
       "      <th colspan=\"3\" halign=\"left\">total_expenditure</th>\n",
       "    </tr>\n",
       "    <tr>\n",
       "      <th></th>\n",
       "      <th>max</th>\n",
       "      <th>mean</th>\n",
       "      <th>min</th>\n",
       "    </tr>\n",
       "    <tr>\n",
       "      <th>dependant_loc</th>\n",
       "      <th></th>\n",
       "      <th></th>\n",
       "      <th></th>\n",
       "    </tr>\n",
       "  </thead>\n",
       "  <tbody>\n",
       "    <tr>\n",
       "      <th>single_adult</th>\n",
       "      <td>2101288.0</td>\n",
       "      <td>4598.103027</td>\n",
       "      <td>3.0</td>\n",
       "    </tr>\n",
       "    <tr>\n",
       "      <th>young_parent</th>\n",
       "      <td>2103968.0</td>\n",
       "      <td>4685.574219</td>\n",
       "      <td>3.0</td>\n",
       "    </tr>\n",
       "  </tbody>\n",
       "</table>\n",
       "</div>"
      ],
      "text/plain": [
       "              total_expenditure                  \n",
       "                            max         mean  min\n",
       "dependant_loc                                    \n",
       "single_adult          2101288.0  4598.103027  3.0\n",
       "young_parent          2103968.0  4685.574219  3.0"
      ]
     },
     "execution_count": 30,
     "metadata": {},
     "output_type": "execute_result"
    }
   ],
   "source": [
    "all_data_combined.groupby('dependant_loc').agg({'total_expenditure': ['max', 'mean', 'min']})"
   ]
  },
  {
   "cell_type": "markdown",
   "id": "a1681d97",
   "metadata": {},
   "source": [
    " # 8. Comparing customer profiles with regions and departments"
   ]
  },
  {
   "cell_type": "code",
   "execution_count": 31,
   "id": "d0256ea5",
   "metadata": {
    "scrolled": true
   },
   "outputs": [
    {
     "data": {
      "text/plain": [
       "Text(0.5, 0, 'Region')"
      ]
     },
     "execution_count": 31,
     "metadata": {},
     "output_type": "execute_result"
    },
    {
     "data": {
      "image/png": "[encoded data removed]",
      "text/plain": [
       "<Figure size 640x480 with 1 Axes>"
      ]
     },
     "metadata": {},
     "output_type": "display_data"
    }
   ],
   "source": [
    "# Create a histogram for income_groups in all regions\n",
    "histplot_income_group_regions = sns.histplot(data=all_data_combined,x ='region',hue='income_loc',multiple='dodge',shrink=.8)\n",
    "plt.title('Income Group Distribution in All Regions')\n",
    "plt.ylabel('Frequency')\n",
    "plt.xlabel('Region')"
   ]
  },
  {
   "cell_type": "code",
   "execution_count": 32,
   "id": "9f720be9",
   "metadata": {},
   "outputs": [],
   "source": [
    "# Exporting the 'hist' object created above to the 'visualizations' folder\n",
    "\n",
    "histplot_income_group_regions.figure.savefig(os.path.join(path, '04 Analysis', 'Visualizations', 'histplot_income_group_regions.png'))"
   ]
  },
  {
   "cell_type": "code",
   "execution_count": 33,
   "id": "d35c6226",
   "metadata": {},
   "outputs": [
    {
     "data": {
      "text/plain": [
       "Text(0.5, 0, 'Region')"
      ]
     },
     "execution_count": 33,
     "metadata": {},
     "output_type": "execute_result"
    },
    {
     "data": {
      "image/png": "[encoded data removed]",
      "text/plain": [
       "<Figure size 640x480 with 1 Axes>"
      ]
     },
     "metadata": {},
     "output_type": "display_data"
    }
   ],
   "source": [
    "# Creating a histogram for age_groups in all regions\n",
    "\n",
    "histplot_age_group_regions = sns.histplot(data=all_data_combined,x ='region',hue='age_loc',multiple='dodge',shrink=.8)\n",
    "plt.title('Age Group Distribution in All Regions')\n",
    "plt.ylabel('Frequency')\n",
    "plt.xlabel('Region')"
   ]
  },
  {
   "cell_type": "code",
   "execution_count": 34,
   "id": "ad397e57",
   "metadata": {},
   "outputs": [],
   "source": [
    "# Exporting the 'hist' object created above to the 'visualizations' folder\n",
    "\n",
    "histplot_age_group_regions.figure.savefig(os.path.join(path, '04 Analysis', 'Visualizations', 'histplot_age_group_regions.png'))"
   ]
  },
  {
   "cell_type": "code",
   "execution_count": 35,
   "id": "e19931bb",
   "metadata": {},
   "outputs": [
    {
     "data": {
      "text/plain": [
       "Text(0.5, 0, 'Region')"
      ]
     },
     "execution_count": 35,
     "metadata": {},
     "output_type": "execute_result"
    },
    {
     "data": {
      "image/png": "[encoded data removed]",
      "text/plain": [
       "<Figure size 640x480 with 1 Axes>"
      ]
     },
     "metadata": {},
     "output_type": "display_data"
    }
   ],
   "source": [
    "# Create a histogram for n_dependants_groups in all regions\n",
    "\n",
    "histplot_dependants_group_regions = sns.histplot(data=all_data_combined,x ='region',hue='dependant_loc',multiple='dodge',shrink=.8)\n",
    "plt.title('Family Size Group Distribution in All Regions')\n",
    "plt.ylabel('Frequency')\n",
    "plt.xlabel('Region')"
   ]
  },
  {
   "cell_type": "code",
   "execution_count": 36,
   "id": "22e6c249",
   "metadata": {},
   "outputs": [],
   "source": [
    "# Exporting the 'hist' object created above to the 'visualizations' folder\n",
    "\n",
    "histplot_dependants_group_regions.figure.savefig(os.path.join(path, '04 Analysis', 'Visualizations', 'histplot_dependants_group_regions.png'))"
   ]
  },
  {
   "cell_type": "code",
   "execution_count": null,
   "id": "c45ab0d3",
   "metadata": {},
   "outputs": [],
   "source": []
  }
 ],
 "metadata": {
  "kernelspec": {
   "display_name": "Python 3 (ipykernel)",
   "language": "python",
   "name": "python3"
  },
  "language_info": {
   "codemirror_mode": {
    "name": "ipython",
    "version": 3
   },
   "file_extension": ".py",
   "mimetype": "text/x-python",
   "name": "python",
   "nbconvert_exporter": "python",
   "pygments_lexer": "ipython3",
   "version": "3.11.5"
  }
 },
 "nbformat": 4,
 "nbformat_minor": 5
}
