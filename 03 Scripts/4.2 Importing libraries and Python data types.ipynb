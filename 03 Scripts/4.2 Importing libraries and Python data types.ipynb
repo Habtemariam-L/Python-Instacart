{
 "cells": [
  {
   "cell_type": "markdown",
   "id": "e6b991cd",
   "metadata": {},
   "source": [
    "#01. Importing libraries "
   ]
  },
  {
   "cell_type": "code",
   "execution_count": null,
   "id": "afa57c3e",
   "metadata": {},
   "outputs": [],
   "source": [
    "#Import libraries "
   ]
  },
  {
   "cell_type": "code",
   "execution_count": 1,
   "id": "7a4a1032",
   "metadata": {},
   "outputs": [],
   "source": [
    "import pandas as pd\n",
    "import numpy as np\n",
    "import os"
   ]
  },
  {
   "cell_type": "markdown",
   "id": "4d832e37",
   "metadata": {},
   "source": [
    "##02. Python data types\n"
   ]
  },
  {
   "cell_type": "code",
   "execution_count": null,
   "id": "3f1876e2",
   "metadata": {},
   "outputs": [],
   "source": [
    "#code 3 different ways of reaching a result of 100"
   ]
  },
  {
   "cell_type": "code",
   "execution_count": 1,
   "id": "185f6684",
   "metadata": {},
   "outputs": [],
   "source": [
    "x=250-150"
   ]
  },
  {
   "cell_type": "code",
   "execution_count": 2,
   "id": "554a3340",
   "metadata": {},
   "outputs": [
    {
     "name": "stdout",
     "output_type": "stream",
     "text": [
      "100\n"
     ]
    }
   ],
   "source": [
    "print(x)"
   ]
  },
  {
   "cell_type": "code",
   "execution_count": 3,
   "id": "ee1a5dab",
   "metadata": {},
   "outputs": [
    {
     "data": {
      "text/plain": [
       "100"
      ]
     },
     "execution_count": 3,
     "metadata": {},
     "output_type": "execute_result"
    }
   ],
   "source": [
    "250-150"
   ]
  },
  {
   "cell_type": "code",
   "execution_count": 5,
   "id": "e6cce814",
   "metadata": {},
   "outputs": [
    {
     "data": {
      "text/plain": [
       "100"
      ]
     },
     "execution_count": 5,
     "metadata": {},
     "output_type": "execute_result"
    }
   ],
   "source": [
    "x=60\n",
    "y=40\n",
    "x+y"
   ]
  },
  {
   "cell_type": "code",
   "execution_count": null,
   "id": "de9e645f",
   "metadata": {},
   "outputs": [],
   "source": [
    "# code 2 floating -point variables and divide the by each other"
   ]
  },
  {
   "cell_type": "code",
   "execution_count": 6,
   "id": "c2a8a11c",
   "metadata": {},
   "outputs": [
    {
     "data": {
      "text/plain": [
       "0.5142543859649124"
      ]
     },
     "execution_count": 6,
     "metadata": {},
     "output_type": "execute_result"
    }
   ],
   "source": [
    "a=2.345\n",
    "b=4.56\n",
    "a/b"
   ]
  },
  {
   "cell_type": "code",
   "execution_count": null,
   "id": "34448701",
   "metadata": {},
   "outputs": [],
   "source": [
    "# Construct a short word made of separate strings"
   ]
  },
  {
   "cell_type": "code",
   "execution_count": 8,
   "id": "56734286",
   "metadata": {},
   "outputs": [
    {
     "data": {
      "text/plain": [
       "'Word'"
      ]
     },
     "execution_count": 8,
     "metadata": {},
     "output_type": "execute_result"
    }
   ],
   "source": [
    "c='Wo'\n",
    "d='rd'\n",
    "c+d"
   ]
  },
  {
   "cell_type": "code",
   "execution_count": null,
   "id": "90285f72",
   "metadata": {},
   "outputs": [],
   "source": [
    "#Construct 2 short sentences made of separate strings"
   ]
  },
  {
   "cell_type": "code",
   "execution_count": 9,
   "id": "f981f1e8",
   "metadata": {},
   "outputs": [
    {
     "data": {
      "text/plain": [
       "'This is a word.'"
      ]
     },
     "execution_count": 9,
     "metadata": {},
     "output_type": "execute_result"
    }
   ],
   "source": [
    "e='This '\n",
    "f='is a word.'\n",
    "e+f"
   ]
  },
  {
   "cell_type": "code",
   "execution_count": null,
   "id": "7e1fe832",
   "metadata": {},
   "outputs": [],
   "source": [
    "# Bonus task"
   ]
  },
  {
   "cell_type": "code",
   "execution_count": 11,
   "id": "6a93e8bb",
   "metadata": {},
   "outputs": [
    {
     "data": {
      "text/plain": [
       "'stringstringstringstringstringstringstringstringstringstringstringstringstringstringstringstringstringstringstringstringstringstringstringstringstringstringstringstringstringstringstringstringstringstringstringstringstringstringstringstringstringstringstringstringstringstringstringstringstringstringstringstringstringstringstringstringstringstringstringstringstringstringstringstringstringstringstringstringstringstringstringstringstringstringstringstringstringstringstringstringstringstringstringstringstringstringstringstringstringstringstringstringstringstringstringstringstringstringstringstring'"
      ]
     },
     "execution_count": 11,
     "metadata": {},
     "output_type": "execute_result"
    }
   ],
   "source": [
    "'string'*100"
   ]
  }
 ],
 "metadata": {
  "kernelspec": {
   "display_name": "Python 3 (ipykernel)",
   "language": "python",
   "name": "python3"
  },
  "language_info": {
   "codemirror_mode": {
    "name": "ipython",
    "version": 3
   },
   "file_extension": ".py",
   "mimetype": "text/x-python",
   "name": "python",
   "nbconvert_exporter": "python",
   "pygments_lexer": "ipython3",
   "version": "3.11.5"
  }
 },
 "nbformat": 4,
 "nbformat_minor": 5
}
